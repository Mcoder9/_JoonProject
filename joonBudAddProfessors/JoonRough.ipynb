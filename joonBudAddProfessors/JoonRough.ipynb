{
 "cells": [
  {
   "cell_type": "code",
   "execution_count": 1,
   "metadata": {},
   "outputs": [],
   "source": [
    "import csv\n",
    "import random\n",
    "import requests\n",
    "import subprocess,os\n",
    "from time import sleep\n",
    "from selenium import webdriver\n",
    "from selenium.webdriver.common.by import By\n",
    "from selenium.webdriver.common.keys import Keys\n",
    "from selenium.webdriver.edge.options import Options\n",
    "from selenium.webdriver.edge.service import Service"
   ]
  },
  {
   "cell_type": "code",
   "execution_count": 3,
   "metadata": {},
   "outputs": [],
   "source": [
    "def browser():\n",
    "    subprocess.Popen([\"start\",\"msedge\",\"--remote-debugging-port=8989\",\"--user-data-dir=\" + os.getcwd() + \"/edgeProfile\",],shell=True)\n",
    "    options = Options()\n",
    "    options.add_argument(\"--start-maximized\")\n",
    "    options.add_experimental_option(\"debuggerAddress\", \"localhost:8989\")\n",
    "    service = Service(executable_path='msedgedriver.exe')\n",
    "    driver = webdriver.Edge(service=service,options=options)\n",
    "    driver.implicitly_wait(3)\n",
    "    return driver"
   ]
  },
  {
   "cell_type": "code",
   "execution_count": 5,
   "metadata": {},
   "outputs": [],
   "source": [
    "driver = browser()"
   ]
  },
  {
   "cell_type": "code",
   "execution_count": 13,
   "metadata": {},
   "outputs": [],
   "source": [
    "driver.get('http://joonbud.com')"
   ]
  },
  {
   "cell_type": "code",
   "execution_count": 14,
   "metadata": {},
   "outputs": [],
   "source": [
    "user = 'mustafadev'\n",
    "psw = 'mustafadevupwork'"
   ]
  },
  {
   "cell_type": "code",
   "execution_count": 15,
   "metadata": {},
   "outputs": [],
   "source": [
    "driver.find_element(By.XPATH, '//input[@name=\"login\"]').send_keys(user)\n",
    "pswBox = driver.find_element(By.XPATH, '//input[@name=\"password\"]')\n",
    "pswBox.send_keys(psw)\n",
    "pswBox.send_keys(Keys.ENTER)"
   ]
  },
  {
   "cell_type": "code",
   "execution_count": 16,
   "metadata": {},
   "outputs": [],
   "source": [
    "addUrl = 'http://joonbud.com/professors/categories/saddleback-college.2/add'"
   ]
  },
  {
   "cell_type": "code",
   "execution_count": 17,
   "metadata": {},
   "outputs": [],
   "source": [
    "driver.get(addUrl)"
   ]
  },
  {
   "cell_type": "code",
   "execution_count": 7,
   "metadata": {},
   "outputs": [
    {
     "name": "stdout",
     "output_type": "stream",
     "text": [
      "31619\n"
     ]
    }
   ],
   "source": [
    "# with open('InputData.csv') as inputDataFile:\n",
    "#     with open('TrackLogg.csv') as trackLoggFile:\n",
    "#         inputRows = list(csv.reader(inputDataFile))\n",
    "#         trackRows = list(csv.reader(trackLoggFile))\n",
    "#         for row in inputRows:\n",
    "#             if row not in trackRows:\n",
    "#                 print(row)\n"
   ]
  },
  {
   "cell_type": "code",
   "execution_count": 32,
   "metadata": {},
   "outputs": [],
   "source": [
    "'Select prefix'\n",
    "driver.find_element(By.CSS_SELECTOR, '.inputGroup-text a.menuTrigger--prefix').click()\n",
    "driver.find_element(By.CSS_SELECTOR, 'a.menuPrefix.label').click()"
   ]
  },
  {
   "cell_type": "code",
   "execution_count": 33,
   "metadata": {},
   "outputs": [],
   "source": [
    "driver.find_element(By.XPATH, '//input[@name=\"title\"]').send_keys('title')\n",
    "driver.find_element(By.XPATH, '//input[@name=\"tag_line\"]').send_keys('class')"
   ]
  },
  {
   "cell_type": "code",
   "execution_count": 38,
   "metadata": {},
   "outputs": [],
   "source": [
    "driver.find_element(By.CSS_SELECTOR, 'div.fr-wrapper p').send_keys('-')"
   ]
  },
  {
   "cell_type": "code",
   "execution_count": 39,
   "metadata": {},
   "outputs": [],
   "source": [
    "driver.find_element(By.CSS_SELECTOR, '.formSubmitRow-controls>button').click()"
   ]
  },
  {
   "cell_type": "code",
   "execution_count": 41,
   "metadata": {},
   "outputs": [],
   "source": [
    "import json\n",
    "config = json.load(open('config.json'))"
   ]
  },
  {
   "cell_type": "code",
   "execution_count": 42,
   "metadata": {},
   "outputs": [
    {
     "data": {
      "text/plain": [
       "{'username': 'mustafadev',\n",
       " 'password': 'mustafadevupwork',\n",
       " 'addUrl': 'http://joonbud.com/professors/categories/saddleback-college.2/add'}"
      ]
     },
     "execution_count": 42,
     "metadata": {},
     "output_type": "execute_result"
    }
   ],
   "source": [
    "config"
   ]
  }
 ],
 "metadata": {
  "kernelspec": {
   "display_name": "Python 3.9.1 64-bit",
   "language": "python",
   "name": "python3"
  },
  "language_info": {
   "codemirror_mode": {
    "name": "ipython",
    "version": 3
   },
   "file_extension": ".py",
   "mimetype": "text/x-python",
   "name": "python",
   "nbconvert_exporter": "python",
   "pygments_lexer": "ipython3",
   "version": "3.9.1"
  },
  "orig_nbformat": 4,
  "vscode": {
   "interpreter": {
    "hash": "f306f6d5f0b0126b3933bd046c85fabfb25661412955ee2ea632cf2d79c797fc"
   }
  }
 },
 "nbformat": 4,
 "nbformat_minor": 2
}
