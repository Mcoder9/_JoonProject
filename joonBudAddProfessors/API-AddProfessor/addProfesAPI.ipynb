{
 "cells": [
  {
   "cell_type": "code",
   "execution_count": 13,
   "metadata": {},
   "outputs": [],
   "source": [
    "import requests,csv,json,re\n",
    "from bs4 import BeautifulSoup\n",
    "s = requests.Session()"
   ]
  },
  {
   "cell_type": "code",
   "execution_count": 5,
   "metadata": {},
   "outputs": [],
   "source": [
    "def get_xfToken(url):\n",
    "    kk = s.get(url)\n",
    "    soup = BeautifulSoup(kk.text,'lxml')\n",
    "    _xfToken = soup.select_one('[name=\"_xfToken\"]')['value']\n",
    "    return _xfToken\n",
    "\n",
    "def login(admin_id,admin_pass):\n",
    "    xfToken = get_xfToken('http://joonbud.com/login/login')  \n",
    "    loginUrl = 'http://joonbud.com/login/login'\n",
    "    payload = {\n",
    "        '_xfToken':xfToken,\n",
    "        'login':admin_id,\n",
    "        'password':admin_pass,\n",
    "        'remember':1,\n",
    "        '_xfRedirect':'http://joonbud.com/'\n",
    "    }\n",
    "    res = s.post(loginUrl,data=payload,verify=False)\n",
    "    \n",
    "    if res.status_code == 200 or res.status_code == 303:\n",
    "        cookies = res.history[0].headers.get('Set-Cookie')\n",
    "        print(f'{admin_id}@{admin_pass} login --> statusCode {res.status_code}')\n",
    "        xf_user = re.findall(r'xf_user.+?(?=;)',cookies)[0].removeprefix('xf_user=')\n",
    "        xf_session = re.findall(r'xf_session.+?(?=;)',cookies)[0].removeprefix('xf_session=')\n",
    "        # s.headers.update({'Cookie':cookies})\n",
    "        cookies = {\"xf_user\":xf_user,\"xf_session\":xf_session}\n",
    "        s.cookies.update(cookies)"
   ]
  },
  {
   "cell_type": "code",
   "execution_count": 14,
   "metadata": {},
   "outputs": [
    {
     "name": "stdout",
     "output_type": "stream",
     "text": [
      "mustafadev@mustafadevupwork login --> statusCode 200\n"
     ]
    }
   ],
   "source": [
    "adminID = 'mustafadev'\n",
    "adminPSW = 'mustafadevupwork'\n",
    "login(adminID,adminPSW)"
   ]
  },
  {
   "cell_type": "code",
   "execution_count": 44,
   "metadata": {},
   "outputs": [
    {
     "data": {
      "text/plain": [
       "<Response [200]>"
      ]
     },
     "execution_count": 44,
     "metadata": {},
     "output_type": "execute_result"
    }
   ],
   "source": [
    "xfToken = get_xfToken('http://joonbud.com/professors/categories/saddleback-college.2/add') \n",
    "addPayload = {\n",
    "    '_xfToken':xfToken,\n",
    "    'prefix_id':1,\n",
    "    'title':'Usddama Siffddique',\n",
    "    'tag_line':'PHIL15',\n",
    "    'resource_type':'fileless',\n",
    "    'description':'<p>-</p>',\n",
    "    # 'attachment_hash':'a857f76edb39b845ce4439ed61916cde',\n",
    "    # 'attachment_hash_combined':'{\"type\":\"resource_update\",\"context\":{\"resource_category_id\":2},\"hash\":\"a857f76edb39b845ce4439ed61916cde\"}',\n",
    "    '_xfRequestUri':'/professors/categories/saddleback-college.2/add',\n",
    "    \n",
    "}\n",
    "\n",
    "addresp = s.post('http://joonbud.com/professors/categories/saddleback-college.2/add',data=addPayload)\n",
    "addresp"
   ]
  },
  {
   "cell_type": "code",
   "execution_count": 45,
   "metadata": {},
   "outputs": [],
   "source": [
    "with open('kk.html','w') as f : f.write(addresp.text)"
   ]
  }
 ],
 "metadata": {
  "kernelspec": {
   "display_name": "Python 3.9.1 64-bit",
   "language": "python",
   "name": "python3"
  },
  "language_info": {
   "codemirror_mode": {
    "name": "ipython",
    "version": 3
   },
   "file_extension": ".py",
   "mimetype": "text/x-python",
   "name": "python",
   "nbconvert_exporter": "python",
   "pygments_lexer": "ipython3",
   "version": "3.9.1"
  },
  "orig_nbformat": 4,
  "vscode": {
   "interpreter": {
    "hash": "f306f6d5f0b0126b3933bd046c85fabfb25661412955ee2ea632cf2d79c797fc"
   }
  }
 },
 "nbformat": 4,
 "nbformat_minor": 2
}
