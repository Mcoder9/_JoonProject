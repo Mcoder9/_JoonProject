{
 "cells": [
  {
   "cell_type": "code",
   "execution_count": 6,
   "metadata": {},
   "outputs": [],
   "source": [
    "import requests,json,csv\n",
    "from  bs4 import BeautifulSoup\n",
    "import httpx\n",
    "s = requests.Session()"
   ]
  },
  {
   "cell_type": "code",
   "execution_count": null,
   "metadata": {},
   "outputs": [],
   "source": [
    "s.cookies"
   ]
  },
  {
   "cell_type": "code",
   "execution_count": null,
   "metadata": {},
   "outputs": [],
   "source": [
    "def get_xfToken(url):\n",
    "    kk = s.get(url)\n",
    "    soup = BeautifulSoup(kk.text,'lxml')\n",
    "    _xfToken = soup.select_one('[name=\"_xfToken\"]')['value']\n",
    "    return _xfToken\n",
    "xfToken = get_xfToken('http://joonbud.com/login/login')\n",
    "xfToken"
   ]
  },
  {
   "cell_type": "code",
   "execution_count": 12,
   "metadata": {},
   "outputs": [
    {
     "name": "stdout",
     "output_type": "stream",
     "text": [
      "login:: <Response [200]>\n"
     ]
    }
   ],
   "source": [
    "loginUrl = 'http://joonbud.com/login/login'\n",
    "payload = {\n",
    "    '_xfToken':'1664711433,06f3d7f969a7ae7a1a21404b3d44d070',\n",
    "    'login':f'mutest1',\n",
    "    'password':'mustafadevupwork',\n",
    "    'remember':1,\n",
    "    '_xfRedirect':'http://joonbud.com/'\n",
    "}\n",
    "headers = {\n",
    "    'Accept':'text/html,application/xhtml+xml,application/xml;q=0.9,image/webp,image/apng,*/*;q=0.8,application/signed-exchange;v=b3;q=0.9',\n",
    "    'User-Agent':'Mozilla/5.0 (Windows NT 10.0; Win64; x64) AppleWebKit/537.36 (KHTML, like Gecko) Chrome/105.0.0.0 Safari/537.36 Edg/105.0.1343.53',\n",
    "    'Cookie': 'T=1664731815:RT=1664731815:S=ALNI_MaBvxNR6O7EzwVaSOPhHkFP_xr8UA; __gpi=UID=00000af772a84b52:T=1664731815:RT=1664731815:S=ALNI_MaiOhVIY-Szc8W_RA6STsi7Zdy9uA; xf_session=u2Kjan-hTh1IGHZFodKpWY0-602RJIoD; xf_csrf=FKYM1VKsK-EVPGis',\n",
    "    'Content-Type': 'application/x-www-form-urlencoded',\n",
    "    'Connection':'keep-alive'\n",
    "}\n",
    "\n",
    "cookies = {'xf_user': '58%2C6PA1cUAPE5c41WdfshPFcfh46eYPkeO8qO4PZt7M',\n",
    "            'xf_session':'nJmBrPow2LhS1-zghlJy55EKnOXi-mYU',\n",
    "            'path=/;' : 'HttpOnly'\n",
    "            }\n",
    "\n",
    "res = s.post(loginUrl,data=payload,headers=headers)\n",
    "print('login::',res)"
   ]
  },
  {
   "cell_type": "code",
   "execution_count": 7,
   "metadata": {},
   "outputs": [
    {
     "name": "stdout",
     "output_type": "stream",
     "text": [
      "<Response [200]>\n"
     ]
    }
   ],
   "source": [
    "loginUrl = 'http://joonbud.com/login/login'\n",
    "payload = {\n",
    "    '_xfToken':'1664711433,06f3d7f969a7ae7a1a21404b3d44d070',\n",
    "    'login':'mutest12',\n",
    "    'password':'mustafadevupwork',\n",
    "    'remember':1,\n",
    "    '_xfRedirect':'http://joonbud.com/'\n",
    "}\n",
    "headers = {\n",
    "    'Accept':'text/html,application/xhtml+xml,application/xml;q=0.9,image/webp,image/apng,*/*;q=0.8,application/signed-exchange;v=b3;q=0.9',\n",
    "    'User-Agent':'Mozilla/5.0 (Windows NT 10.0; Win64; x64) AppleWebKit/537.36 (KHTML, like Gecko) Chrome/105.0.0.0 Safari/537.36 Edg/105.0.1343.53',\n",
    "    'Cookie': 'xf_session=u2Kjan-hTh1IGHZFodKpWY0-602RJIoD; xf_csrf=FKYM1VKsK-EVPGis',\n",
    "    'Content-Type': 'application/x-www-form-urlencoded',\n",
    "    'Connection':'keep-alive'\n",
    "}\n",
    "logres = s.post(loginUrl,data=payload,headers=headers) # login\n",
    "print(logres)"
   ]
  },
  {
   "cell_type": "code",
   "execution_count": null,
   "metadata": {},
   "outputs": [],
   "source": [
    "with open('kk.html', 'wb') as f: f.write(res.content)"
   ]
  },
  {
   "cell_type": "code",
   "execution_count": null,
   "metadata": {},
   "outputs": [],
   "source": [
    "kk = requests.get('http://joonbud.com/login/login')\n",
    "soup = BeautifulSoup(kk.text,'lxml')\n",
    "_xfToken = soup.select_one('[name=\"_xfToken\"]')['value']\n",
    "_xfToken"
   ]
  },
  {
   "cell_type": "code",
   "execution_count": 13,
   "metadata": {},
   "outputs": [
    {
     "name": "stdout",
     "output_type": "stream",
     "text": [
      "1664777913,ee7011c0113260aa664506a7d36a936d\n"
     ]
    },
    {
     "data": {
      "text/plain": [
       "<Response [200]>"
      ]
     },
     "execution_count": 13,
     "metadata": {},
     "output_type": "execute_result"
    }
   ],
   "source": [
    "# kk = s.get('http://joonbud.com/professors/freshwater-eng.2507/rate')\n",
    "# soup = BeautifulSoup(kk.text,'lxml')\n",
    "# _xfToken = soup.select_one('[name=\"_xfToken\"]')['value']\n",
    "_xfToken = get_xfToken('http://joonbud.com/professors/amy-casil-jrn125.1081/rate')\n",
    "print(_xfToken)\n",
    "ratePayload = {\n",
    "    '_xfToken':_xfToken,\n",
    "    'rating':5,\n",
    "    'message':'Babason like it soo much',\n",
    "    # '_xfRequestUri':'/professors/reyes-hist17.11/rate',\n",
    "    # '_xfWithData':1,\n",
    "    # '_xfResponseType':'json',\n",
    "}\n",
    "tres = s.post('http://joonbud.com/professors/amy-casil-jrn125.1081/rate',data=ratePayload)\n",
    "tres"
   ]
  },
  {
   "cell_type": "code",
   "execution_count": 8,
   "metadata": {},
   "outputs": [
    {
     "name": "stdout",
     "output_type": "stream",
     "text": [
      "1664773474,539c69fd3edacbaa7da42941b00da232\n",
      "post:: <Response [200]>\n"
     ]
    }
   ],
   "source": [
    "def postReview(professorURI,comment,rattings):\n",
    "    professorRateURL = 'http://joonbud.com' +professorURI+ 'rate'\n",
    "    _xfToken = get_xfToken(professorRateURL)\n",
    "    print(_xfToken)\n",
    "    ratePayload = {\n",
    "        '_xfToken':_xfToken,\n",
    "        'rating':rattings,\n",
    "        'message':comment,\n",
    "        '_xfRequestUri':professorURI+'rate',\n",
    "        '_xfWithData':1,\n",
    "        '_xfResponseType':'json',\n",
    "        '_xfToken':_xfToken\n",
    "    }\n",
    "\n",
    "    reatres = s.post(professorRateURL,data=ratePayload) # post comment/Reviews\n",
    "    print('post::',reatres)\n",
    "postReview('/professors/reyes-hist17.11/','good',4)"
   ]
  },
  {
   "cell_type": "code",
   "execution_count": null,
   "metadata": {},
   "outputs": [],
   "source": []
  },
  {
   "cell_type": "code",
   "execution_count": null,
   "metadata": {},
   "outputs": [],
   "source": [
    "with open('kk.html','w') as f:\n",
    "    f.write(tres.text)"
   ]
  },
  {
   "cell_type": "code",
   "execution_count": null,
   "metadata": {},
   "outputs": [],
   "source": []
  },
  {
   "cell_type": "code",
   "execution_count": 11,
   "metadata": {},
   "outputs": [
    {
     "name": "stdout",
     "output_type": "stream",
     "text": [
      "1664777529,db4db05a8f883b65177eafa3bc2cd548\n",
      "<Response [200]>\n",
      ". Reyes HIST17 /professors/reyes-hist17.11/\n",
      ". Reyes HIST17 /professors/reyes-hist17.11/\n"
     ]
    }
   ],
   "source": [
    "'Query Search'\n",
    "xfToken = get_xfToken('http://joonbud.com/professors/categories/saddleback-college.2/')\n",
    "print(xfToken)\n",
    "payload = {'title':'. Reyes HIST17','_xfToken':xfToken}\n",
    "\n",
    "quickSearch = s.post('http://joonbud.com/resources/categories/quicksearch?category_id=2',data=payload)\n",
    "print(quickSearch)\n",
    "soup = BeautifulSoup(quickSearch.text,'lxml')\n",
    "queryResults = soup.select('td[class=\"dataList-cell dataList-cell--link\"]>a')\n",
    "for tag in queryResults:\n",
    "    print(tag.text,tag['href']) "
   ]
  },
  {
   "cell_type": "code",
   "execution_count": null,
   "metadata": {},
   "outputs": [],
   "source": [
    "age = 17\n",
    "# One-liner if-else statement\n",
    "age_group = \"Minor\" if age < 18 else \"Adult\"\n",
    "print(age_group)"
   ]
  },
  {
   "cell_type": "code",
   "execution_count": null,
   "metadata": {},
   "outputs": [],
   "source": []
  },
  {
   "cell_type": "code",
   "execution_count": null,
   "metadata": {},
   "outputs": [],
   "source": []
  },
  {
   "cell_type": "code",
   "execution_count": null,
   "metadata": {},
   "outputs": [],
   "source": []
  }
 ],
 "metadata": {
  "kernelspec": {
   "display_name": "Python 3.9.1 64-bit",
   "language": "python",
   "name": "python3"
  },
  "language_info": {
   "codemirror_mode": {
    "name": "ipython",
    "version": 3
   },
   "file_extension": ".py",
   "mimetype": "text/x-python",
   "name": "python",
   "nbconvert_exporter": "python",
   "pygments_lexer": "ipython3",
   "version": "3.9.1"
  },
  "orig_nbformat": 4,
  "vscode": {
   "interpreter": {
    "hash": "f306f6d5f0b0126b3933bd046c85fabfb25661412955ee2ea632cf2d79c797fc"
   }
  }
 },
 "nbformat": 4,
 "nbformat_minor": 2
}
