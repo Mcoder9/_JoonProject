{
 "cells": [
  {
   "cell_type": "code",
   "execution_count": 8,
   "metadata": {},
   "outputs": [],
   "source": [
    "import requests,json,csv\n",
    "from  bs4 import BeautifulSoup\n",
    "import httpx\n",
    "s = requests.Session()\n",
    "tempS = requests.Session()\n",
    "S = httpx.Client()"
   ]
  },
  {
   "cell_type": "code",
   "execution_count": 9,
   "metadata": {},
   "outputs": [
    {
     "data": {
      "text/plain": [
       "<RequestsCookieJar[]>"
      ]
     },
     "execution_count": 9,
     "metadata": {},
     "output_type": "execute_result"
    }
   ],
   "source": [
    "s.cookies"
   ]
  },
  {
   "cell_type": "code",
   "execution_count": 2,
   "metadata": {},
   "outputs": [
    {
     "data": {
      "text/plain": [
       "'1664744232,960430338ae489aeda585eaffc5fda1c'"
      ]
     },
     "execution_count": 2,
     "metadata": {},
     "output_type": "execute_result"
    }
   ],
   "source": [
    "def get_xfToken(url):\n",
    "    kk = s.get(url)\n",
    "    soup = BeautifulSoup(kk.text,'lxml')\n",
    "    _xfToken = soup.select_one('[name=\"_xfToken\"]')['value']\n",
    "    return _xfToken\n",
    "xfToken = get_xfToken('http://joonbud.com/login/login')\n",
    "xfToken"
   ]
  },
  {
   "cell_type": "code",
   "execution_count": 10,
   "metadata": {},
   "outputs": [
    {
     "name": "stdout",
     "output_type": "stream",
     "text": [
      "login:: <Response [400]>\n"
     ]
    }
   ],
   "source": [
    "loginUrl = 'http://joonbud.com/login/login'\n",
    "payload = {\n",
    "    '_xfToken':'1664711433,06f3d7f969a7ae7a1a21404b3d44d070',\n",
    "    'login':f'mutest1',\n",
    "    'password':'mustafadevupwork',\n",
    "    'remember':1,\n",
    "    '_xfRedirect':'http://joonbud.com/'\n",
    "}\n",
    "headers = {\n",
    "    'Accept':'text/html,application/xhtml+xml,application/xml;q=0.9,image/webp,image/apng,*/*;q=0.8,application/signed-exchange;v=b3;q=0.9',\n",
    "    'User-Agent':'Mozilla/5.0 (Windows NT 10.0; Win64; x64) AppleWebKit/537.36 (KHTML, like Gecko) Chrome/105.0.0.0 Safari/537.36 Edg/105.0.1343.53',\n",
    "    'Cookie': 'T=1664731815:RT=1664731815:S=ALNI_MaBvxNR6O7EzwVaSOPhHkFP_xr8UA; __gpi=UID=00000af772a84b52:T=1664731815:RT=1664731815:S=ALNI_MaiOhVIY-Szc8W_RA6STsi7Zdy9uA; xf_session=u2Kjan-hTh1IGHZFodKpWY0-602RJIoD; xf_csrf=FKYM1VKsK-EVPGis',\n",
    "    'Content-Type': 'application/x-www-form-urlencoded',\n",
    "    'Connection':'keep-alive'\n",
    "}\n",
    "\n",
    "cookies = {'xf_user': '58%2C6PA1cUAPE5c41WdfshPFcfh46eYPkeO8qO4PZt7M',\n",
    "            'xf_session':'nJmBrPow2LhS1-zghlJy55EKnOXi-mYU',\n",
    "            'path=/;' : 'HttpOnly'\n",
    "            }\n",
    "res = s.post(loginUrl,cookies=hy.cookies,data=payload)\n",
    "# res = s.post(loginUrl,data=payload,headers=headers)\n",
    "print('login::',res)"
   ]
  },
  {
   "cell_type": "code",
   "execution_count": 16,
   "metadata": {},
   "outputs": [
    {
     "ename": "TypeError",
     "evalue": "set() missing 1 required positional argument: 'value'",
     "output_type": "error",
     "traceback": [
      "\u001b[1;31m---------------------------------------------------------------------------\u001b[0m",
      "\u001b[1;31mTypeError\u001b[0m                                 Traceback (most recent call last)",
      "\u001b[1;32md:\\Works\\_JoonProject\\joonBudProfessorsRattings\\JoonbudAPI.ipynb Cell 5\u001b[0m in \u001b[0;36m<cell line: 2>\u001b[1;34m()\u001b[0m\n\u001b[0;32m      <a href='vscode-notebook-cell:/d%3A/Works/_JoonProject/joonBudProfessorsRattings/JoonbudAPI.ipynb#X26sZmlsZQ%3D%3D?line=0'>1</a>\u001b[0m hy \u001b[39m=\u001b[39m requests\u001b[39m.\u001b[39mpost(\u001b[39m'\u001b[39m\u001b[39mhttp://joonbud.com/login/login\u001b[39m\u001b[39m'\u001b[39m)\n\u001b[1;32m----> <a href='vscode-notebook-cell:/d%3A/Works/_JoonProject/joonBudProfessorsRattings/JoonbudAPI.ipynb#X26sZmlsZQ%3D%3D?line=1'>2</a>\u001b[0m s\u001b[39m.\u001b[39;49mcookies\u001b[39m.\u001b[39;49mset(hy\u001b[39m.\u001b[39;49mcookies)\n",
      "\u001b[1;31mTypeError\u001b[0m: set() missing 1 required positional argument: 'value'"
     ]
    }
   ],
   "source": [
    "hy = requests.post('http://joonbud.com/login/login')\n",
    "s.cookies.set(hy.cookies)"
   ]
  },
  {
   "cell_type": "code",
   "execution_count": 16,
   "metadata": {},
   "outputs": [],
   "source": [
    "# s.cookies"
   ]
  },
  {
   "cell_type": "code",
   "execution_count": 17,
   "metadata": {},
   "outputs": [],
   "source": [
    "with open('kk.html', 'wb') as f: f.write(res.content)"
   ]
  },
  {
   "cell_type": "code",
   "execution_count": 19,
   "metadata": {},
   "outputs": [],
   "source": [
    "s.headers['User-Agent'] = headers['User-Agent']"
   ]
  },
  {
   "cell_type": "code",
   "execution_count": 81,
   "metadata": {},
   "outputs": [
    {
     "data": {
      "text/plain": [
       "{'User-Agent': 'python-requests/2.28.0', 'Accept-Encoding': 'gzip, deflate', 'Accept': '*/*', 'Connection': 'keep-alive'}"
      ]
     },
     "execution_count": 81,
     "metadata": {},
     "output_type": "execute_result"
    }
   ],
   "source": [
    "s.headers"
   ]
  },
  {
   "cell_type": "code",
   "execution_count": 11,
   "metadata": {},
   "outputs": [
    {
     "data": {
      "text/plain": [
       "'1664682637,28138c647cb4c245b803549924363c32'"
      ]
     },
     "execution_count": 11,
     "metadata": {},
     "output_type": "execute_result"
    }
   ],
   "source": [
    "kk = requests.get('http://joonbud.com/login/login')\n",
    "soup = BeautifulSoup(kk.text,'lxml')\n",
    "_xfToken = soup.select_one('[name=\"_xfToken\"]')['value']\n",
    "_xfToken"
   ]
  },
  {
   "cell_type": "code",
   "execution_count": 28,
   "metadata": {},
   "outputs": [
    {
     "name": "stdout",
     "output_type": "stream",
     "text": [
      "1664732084,a401bbfff80ce815f6445ec7e21fbc51\n"
     ]
    },
    {
     "data": {
      "text/plain": [
       "<Response [400 Bad Request]>"
      ]
     },
     "execution_count": 28,
     "metadata": {},
     "output_type": "execute_result"
    }
   ],
   "source": [
    "# kk = s.get('http://joonbud.com/professors/freshwater-eng.2507/rate')\n",
    "# soup = BeautifulSoup(kk.text,'lxml')\n",
    "# _xfToken = soup.select_one('[name=\"_xfToken\"]')['value']\n",
    "_xfToken = get_xfToken('http://joonbud.com/professors/reyes-hist17.11/rate')\n",
    "print(_xfToken)\n",
    "ratePayload = {\n",
    "    '_xfToken':_xfToken,\n",
    "    'rating':5,\n",
    "    'message':'Babason like it soo much',\n",
    "    '_xfRequestUri':'/professors/reyes-hist17.11/rate',\n",
    "    '_xfWithData':1,\n",
    "    '_xfResponseType':'json',\n",
    "}\n",
    "tres = s.post('http://joonbud.com/professors/reyes-hist17.11/rate',data=ratePayload)\n",
    "tres"
   ]
  },
  {
   "cell_type": "code",
   "execution_count": 26,
   "metadata": {},
   "outputs": [
    {
     "name": "stdout",
     "output_type": "stream",
     "text": [
      "1664732060,1db82f3315ab9c204667462430590121\n",
      "post:: <Response [200]>\n"
     ]
    }
   ],
   "source": [
    "def postReview(professorURI,comment,rattings):\n",
    "    professorRateURL = 'http://joonbud.com' +professorURI+ 'rate'\n",
    "    _xfToken = get_xfToken(professorRateURL)\n",
    "    print(_xfToken)\n",
    "    ratePayload = {\n",
    "        '_xfToken':_xfToken,\n",
    "        'rating':rattings,\n",
    "        'message':comment,\n",
    "        '_xfRequestUri':professorURI+'rate',\n",
    "        '_xfWithData':1,\n",
    "        '_xfResponseType':'json',\n",
    "        '_xfToken':_xfToken\n",
    "    }\n",
    "\n",
    "    reatres = s.post(professorRateURL,data=ratePayload) # post comment/Reviews\n",
    "    print('post::',reatres)\n",
    "postReview('/professors/reyes-hist17.11/','good',4)"
   ]
  },
  {
   "cell_type": "code",
   "execution_count": null,
   "metadata": {},
   "outputs": [],
   "source": []
  },
  {
   "cell_type": "code",
   "execution_count": 12,
   "metadata": {},
   "outputs": [],
   "source": [
    "with open('kk.html','w') as f:\n",
    "    f.write(tres.text)"
   ]
  },
  {
   "cell_type": "code",
   "execution_count": null,
   "metadata": {},
   "outputs": [],
   "source": []
  },
  {
   "cell_type": "code",
   "execution_count": 41,
   "metadata": {},
   "outputs": [
    {
     "name": "stdout",
     "output_type": "stream",
     "text": [
      "1664733439,fbce739456cbcf149e24fb1c73f63259\n",
      "<Response [400]>\n"
     ]
    }
   ],
   "source": [
    "'Query Search'\n",
    "xfToken = get_xfToken('http://joonbud.com/professors/categories/saddleback-college.2/')\n",
    "print(xfToken)\n",
    "payload = {'title':'steve','_xfToken':xfToken}\n",
    "headers = {\n",
    "    'Accept':'text/html, */*; q=0.01',\n",
    "    'Content-Type': 'application/x-www-form-urlencoded; charset=UTF-8',\n",
    "    # 'Cookie':'xf_csrf=J0u7z4HE5RdgS4y4; xf_user=57,DC8JcRksYrF_Rlf-DEj_rkJfi3FXSgOPnKpFEQsa; xf_session=8vP1v9KwDALcA0uVj4JYhI9qi0BmFXcq',\n",
    "    'Cookie':'xf_csrf=J0u7z4HE5RdgS4y4; xf_user=57,DC8JcRksYrF_Rlf-DEj_rkJfi3FXSgOPnKpFEQsa; xf_session=8vP1v9KwDALcA0uVj4JYhI9qi0BmFXcq',\n",
    "    'Referer':'http://joonbud.com/professors/categories/saddleback-college.2/',\n",
    "    'X-Requested-With':'XMLHttpRequest',\n",
    "    'User-Agent':'Mozilla/5.0 (Windows NT 10.0; Win64; x64) AppleWebKit/537.36 (KHTML, like Gecko) Chrome/105.0.0.0 Safari/537.36 Edg/105.0.1343.53'\n",
    "\n",
    "}\n",
    "quickSearch = requests.post('http://joonbud.com/resources/categories/quicksearch?category_id=2',data=payload,headers=headers)\n",
    "print(quickSearch)\n",
    "soup = BeautifulSoup(quickSearch.text,'lxml')\n",
    "queryResults = soup.select('td[class=\"dataList-cell dataList-cell--link\"]>a')\n",
    "for tag in queryResults:\n",
    "    print(tag.text,tag['href'])"
   ]
  },
  {
   "cell_type": "code",
   "execution_count": 13,
   "metadata": {},
   "outputs": [
    {
     "name": "stdout",
     "output_type": "stream",
     "text": [
      "Minor\n"
     ]
    }
   ],
   "source": [
    "age = 17\n",
    "# One-liner if-else statement\n",
    "age_group = \"Minor\" if age < 18 else \"Adult\"\n",
    "print(age_group)"
   ]
  },
  {
   "cell_type": "code",
   "execution_count": null,
   "metadata": {},
   "outputs": [],
   "source": []
  },
  {
   "cell_type": "code",
   "execution_count": null,
   "metadata": {},
   "outputs": [],
   "source": []
  },
  {
   "cell_type": "code",
   "execution_count": null,
   "metadata": {},
   "outputs": [],
   "source": []
  }
 ],
 "metadata": {
  "kernelspec": {
   "display_name": "Python 3.9.1 64-bit",
   "language": "python",
   "name": "python3"
  },
  "language_info": {
   "codemirror_mode": {
    "name": "ipython",
    "version": 3
   },
   "file_extension": ".py",
   "mimetype": "text/x-python",
   "name": "python",
   "nbconvert_exporter": "python",
   "pygments_lexer": "ipython3",
   "version": "3.9.1"
  },
  "orig_nbformat": 4,
  "vscode": {
   "interpreter": {
    "hash": "f306f6d5f0b0126b3933bd046c85fabfb25661412955ee2ea632cf2d79c797fc"
   }
  }
 },
 "nbformat": 4,
 "nbformat_minor": 2
}
